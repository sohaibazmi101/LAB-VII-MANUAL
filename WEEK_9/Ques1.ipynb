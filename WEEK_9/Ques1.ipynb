{
 "cells": [
  {
   "cell_type": "code",
   "execution_count": 2,
   "id": "573390e4",
   "metadata": {},
   "outputs": [
    {
     "name": "stdout",
     "output_type": "stream",
     "text": [
      "Trained weights: [0.13745401 0.09507143]\n",
      "Trained bias: -0.2268006058188595\n",
      "\n",
      "AND Gate Predictions:\n",
      "Input: [0 0] => Prediction: 0\n",
      "Input: [0 1] => Prediction: 0\n",
      "Input: [1 0] => Prediction: 0\n",
      "Input: [1 1] => Prediction: 1\n"
     ]
    }
   ],
   "source": [
    "import numpy as np\n",
    "\n",
    "X_and = np.array([[0, 0],\n",
    "                  [0, 1],\n",
    "                  [1, 0],\n",
    "                  [1, 1]])\n",
    "y_and = np.array([0, 0, 0, 1])\n",
    "np.random.seed(42)\n",
    "weights = np.random.rand(2) * 0.1\n",
    "bias = np.random.rand(1)[0] * 0.1\n",
    "def step_function(z):\n",
    "    return 1 if z >= 0 else 0\n",
    "learning_rate = 0.1\n",
    "epochs = 20\n",
    "for epoch in range(epochs):\n",
    "    for x, y_true in zip(X_and, y_and):\n",
    "        z = np.dot(x, weights) + bias\n",
    "        prediction = step_function(z)\n",
    "        error = y_true - prediction\n",
    "        weights += learning_rate * error * x\n",
    "        bias += learning_rate * error\n",
    "print(\"Trained weights:\", weights)\n",
    "print(\"Trained bias:\", bias)\n",
    "print(\"\\nAND Gate Predictions:\")\n",
    "for x in X_and:\n",
    "    z = np.dot(x, weights) + bias\n",
    "    prediction = step_function(z)\n",
    "    print(f\"Input: {x} => Prediction: {prediction}\")"
   ]
  }
 ],
 "metadata": {
  "kernelspec": {
   "display_name": "Python 3",
   "language": "python",
   "name": "python3"
  },
  "language_info": {
   "codemirror_mode": {
    "name": "ipython",
    "version": 3
   },
   "file_extension": ".py",
   "mimetype": "text/x-python",
   "name": "python",
   "nbconvert_exporter": "python",
   "pygments_lexer": "ipython3",
   "version": "3.12.1"
  }
 },
 "nbformat": 4,
 "nbformat_minor": 5
}
