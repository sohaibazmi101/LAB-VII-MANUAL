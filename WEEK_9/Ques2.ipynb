{
 "cells": [
  {
   "cell_type": "code",
   "execution_count": 4,
   "id": "e5e3a97d",
   "metadata": {},
   "outputs": [
    {
     "name": "stdout",
     "output_type": "stream",
     "text": [
      "Shape Classification Data (X_train_s):\n",
      " [[0.   2.  ]\n",
      " [4.   0.95]\n",
      " [0.   1.1 ]\n",
      " [0.   1.  ]\n",
      " [4.   0.5 ]]\n",
      "\n",
      "Shape Target (y_train_s):\n",
      " [1 0 1 1 0]\n",
      "\n",
      "Predictions on X_test_s:\n",
      " [0 1 0]\n",
      "\n",
      "Actual Shape Labels:\n",
      " [0 1 0]\n",
      "\n",
      "MLP Classifier Accuracy: 1.0\n"
     ]
    }
   ],
   "source": [
    "import numpy as np\n",
    "import pandas as pd\n",
    "from sklearn.neural_network import MLPClassifier\n",
    "from sklearn.model_selection import train_test_split\n",
    "from sklearn.metrics import accuracy_score\n",
    "from sklearn.preprocessing import StandardScaler\n",
    "X_shapes = np.array([\n",
    "    [4, 1.0], [4, 1.05], [4, 0.95], \n",
    "    [0, 1.0], [0, 1.1], [0, 0.9],   \n",
    "    [4, 0.5], [0, 2.0]  \n",
    "])\n",
    "y_shapes = np.array([0, 0, 0, 1, 1, 1, 0, 1])\n",
    "X_train_s, X_test_s, y_train_s, y_test_s = train_test_split(\n",
    "    X_shapes, y_shapes, test_size=0.3, random_state=42\n",
    ")\n",
    "print(\"Shape Classification Data (X_train_s):\\n\", X_train_s)\n",
    "print(\"\\nShape Target (y_train_s):\\n\", y_train_s)\n",
    "scaler = StandardScaler()\n",
    "X_train_scaled = scaler.fit_transform(X_train_s)\n",
    "X_test_scaled = scaler.transform(X_test_s)\n",
    "mlp = MLPClassifier(\n",
    "    hidden_layer_sizes=(5,), \n",
    "    max_iter=2000,\n",
    "    random_state=42,\n",
    "    solver='adam'\n",
    ")\n",
    "mlp.fit(X_train_scaled, y_train_s)\n",
    "y_pred_s = mlp.predict(X_test_scaled)\n",
    "accuracy_s = accuracy_score(y_test_s, y_pred_s)\n",
    "print(\"\\nPredictions on X_test_s:\\n\", y_pred_s)\n",
    "print(\"\\nActual Shape Labels:\\n\", y_test_s)\n",
    "print(\"\\nMLP Classifier Accuracy:\", round(accuracy_s, 2))\n"
   ]
  }
 ],
 "metadata": {
  "kernelspec": {
   "display_name": "Python 3",
   "language": "python",
   "name": "python3"
  },
  "language_info": {
   "codemirror_mode": {
    "name": "ipython",
    "version": 3
   },
   "file_extension": ".py",
   "mimetype": "text/x-python",
   "name": "python",
   "nbconvert_exporter": "python",
   "pygments_lexer": "ipython3",
   "version": "3.12.1"
  }
 },
 "nbformat": 4,
 "nbformat_minor": 5
}
